{
 "cells": [
  {
   "cell_type": "markdown",
   "metadata": {},
   "source": [
    "# FX Leverage Carry-Trade\n",
    "\n",
    "The project seeks to implement the well-known carry trade in Forex markets, which involves borrowing money in a low-yielding currency and investing it for a given period of time in a high-yielding currency. In our case, we consider ourselves as investors possessing JPY, and investing this in currencies including the GBP, AUD and USD. Since currency markets can be volatile, signals usually don't last for more than 2 or 3 months at a stretch - hence, we focus our efforts on rebalancing at tenors (time periods) of 1 week, 1 month and 2 months.\n",
    "\n",
    "The two sets of decisions as investors that we have to make would be the choice of currency, as well as the duration of the investment. We tackle both decision by the use of the interest rate parity signal, which is $\\frac{F(1 + r_f)}{S} - (1 + r_d)$ where F is the forward rate, S the spot rate and $r_f$ and $r_d$ the foreign and domestic currencies respectively (note the values of spot and forward rates are computed as CCYJPY, with CCY being the foreign currency). \n",
    "\n",
    "As $r_f$ varies across foreign currency and time periods, and $r_d$ solely across time periods, we determine the currency and time period that generates the highest possible signal to invest in. Once this is decided, we 1) convert the JPY into the currency 2) invest in the existing LIBOR/risk-free rate of the currency 3) convert the currency back into JPY at the prevailing rates at the end of the cycle 4) Repeat the process by determining the best signals.\n",
    "\n",
    "In case none of the signals are positive, we choose to invest our equity overnight in an money-market fund offering a 0 % interest rate. The reason for this is that interest rates have been historically low in Japan (< 1%), with rates becoming negative since 2016. Our only alternative is to invest at the JPY LIBOR, which offers potentially negative interest rates. Most money managers and banks offer overnight rates at a slightly higher rate than the JPY LIBOR, which we assume to be 0 %. Furthermore, since we only consider a minimum tenor of 1 week, keeping our equity locked up over this period could potentially lead to us missing a 'good' signal. \n",
    "\n",
    "Another important feature of our strategy is the use of leverage. Most carry trades involve leverage, since the FX markets can often have long spells (regimes) of sideways movement with minimal returns. Leverage serves to amplify these returns, but can also contribute to magnified losses which could potentially wipe out the entire equity leading to bankruptcy. "
   ]
  },
  {
   "cell_type": "code",
   "execution_count": 3,
   "metadata": {},
   "outputs": [],
   "source": [
    "\n",
    "import numpy as np\n",
    "import pandas as pd\n",
    "import matplotlib\n",
    "import matplotlib.pyplot as plt\n",
    "import carry_trade as ct\n",
    "import datetime as dt\n",
    "\n",
    "from date_function_v2 import holiday_adjust\n",
    "\n",
    "matplotlib.rcParams['figure.figsize'] = (16, 9)\n",
    "font = {'family': 'normal',\n",
    "        'size': 20}\n",
    "\n",
    "matplotlib.rc('font', **font)"
   ]
  },
  {
   "cell_type": "markdown",
   "metadata": {},
   "source": [
    "## 1. Load data"
   ]
  },
  {
   "cell_type": "code",
   "execution_count": 4,
   "metadata": {},
   "outputs": [],
   "source": [
    "data_path_new = 'Data/to_send.csv'\n",
    "final_data_new = pd.read_csv(data_path_new)"
   ]
  },
  {
   "cell_type": "code",
   "execution_count": 5,
   "metadata": {},
   "outputs": [],
   "source": [
    "final_data_new = final_data_new.set_index('Date')\n",
    "final_data_new.index = pd.to_datetime(final_data_new.index)"
   ]
  },
  {
   "cell_type": "code",
   "execution_count": 6,
   "metadata": {},
   "outputs": [],
   "source": [
    "#final_data_new.iloc[324:]"
   ]
  },
  {
   "cell_type": "markdown",
   "metadata": {},
   "source": [
    "## 2. Implement Strategy \n",
    "\n",
    "We implement the strategy for two broad scenarios, pre- and post-crisis. The pre-crisis scenario involves trading from September 2007 onwards, while the post-crisis scenario avoids some of the major volatility spikes and fluctuations observed in 2008 and invests from 2009 onwards. The scenarios assume a fairly conservative leverage ratio of 2."
   ]
  },
  {
   "cell_type": "code",
   "execution_count": 7,
   "metadata": {},
   "outputs": [],
   "source": [
    "# if you want to test single currency or single trading period, just modify the following list\n",
    "fx_list = ['USD', 'AUD', 'GBP']\n",
    "period_list = [7, 30, 60]"
   ]
  },
  {
   "cell_type": "code",
   "execution_count": 8,
   "metadata": {},
   "outputs": [],
   "source": [
    "# idx, row_row = next(final_data.iterrows())\n",
    "# ct.find_max_signal(row_row, period_list, fx_list)"
   ]
  },
  {
   "cell_type": "code",
   "execution_count": 9,
   "metadata": {},
   "outputs": [
    {
     "name": "stdout",
     "output_type": "stream",
     "text": [
      "2019-11-26 16:33:11:448615: Beginning Carry-Trade Strategy run\n",
      "2019-11-26 16:33:28:993788: Algo run complete.\n",
      "2019-11-26 16:33:28:994429: Beginning Carry-Trade Strategy run\n",
      "2019-11-26 16:33:48:715333: Algo run complete.\n"
     ]
    }
   ],
   "source": [
    "results_pre_crisis = ct.algo_loop(final_data_new, fx_list, period_list, leverage = 2.0) # pre-crisis scenario \n",
    "results_post_crisis = ct.algo_loop(final_data_new.iloc[324:], fx_list, period_list, leverage = 2.0)"
   ]
  },
  {
   "cell_type": "code",
   "execution_count": 10,
   "metadata": {},
   "outputs": [],
   "source": [
    "results_pre_crisis.to_csv('Results/results_pre_crisis.csv')\n",
    "results_post_crisis.to_csv('Results/results_post_crisis.csv')"
   ]
  },
  {
   "cell_type": "code",
   "execution_count": 11,
   "metadata": {},
   "outputs": [
    {
     "data": {
      "text/html": [
       "<div>\n",
       "<style scoped>\n",
       "    .dataframe tbody tr th:only-of-type {\n",
       "        vertical-align: middle;\n",
       "    }\n",
       "\n",
       "    .dataframe tbody tr th {\n",
       "        vertical-align: top;\n",
       "    }\n",
       "\n",
       "    .dataframe thead th {\n",
       "        text-align: right;\n",
       "    }\n",
       "</style>\n",
       "<table border=\"1\" class=\"dataframe\">\n",
       "  <thead>\n",
       "    <tr style=\"text-align: right;\">\n",
       "      <th></th>\n",
       "      <th>Signal</th>\n",
       "      <th>FX_name</th>\n",
       "      <th>Period</th>\n",
       "      <th>Foreign_IR</th>\n",
       "      <th>Domestic_IR</th>\n",
       "      <th>FX_Rate</th>\n",
       "      <th>Equity</th>\n",
       "      <th>Asset Pos</th>\n",
       "      <th>Unreal_Return</th>\n",
       "      <th>Real_Return</th>\n",
       "      <th>Drawdown</th>\n",
       "    </tr>\n",
       "    <tr>\n",
       "      <th>Date</th>\n",
       "      <th></th>\n",
       "      <th></th>\n",
       "      <th></th>\n",
       "      <th></th>\n",
       "      <th></th>\n",
       "      <th></th>\n",
       "      <th></th>\n",
       "      <th></th>\n",
       "      <th></th>\n",
       "      <th></th>\n",
       "      <th></th>\n",
       "    </tr>\n",
       "  </thead>\n",
       "  <tbody>\n",
       "    <tr>\n",
       "      <td>2009-01-02</td>\n",
       "      <td>0.000484649</td>\n",
       "      <td>GBP</td>\n",
       "      <td>2M</td>\n",
       "      <td>0.02505</td>\n",
       "      <td>0.0075625</td>\n",
       "      <td>133.563</td>\n",
       "      <td>10000</td>\n",
       "      <td>20000</td>\n",
       "      <td>0.0014587</td>\n",
       "      <td>0</td>\n",
       "      <td>0</td>\n",
       "    </tr>\n",
       "    <tr>\n",
       "      <td>2009-01-05</td>\n",
       "      <td>0.000484649</td>\n",
       "      <td>GBP</td>\n",
       "      <td>2M</td>\n",
       "      <td>0.02445</td>\n",
       "      <td>0.0073875</td>\n",
       "      <td>137.348</td>\n",
       "      <td>10000</td>\n",
       "      <td>20000</td>\n",
       "      <td>0.0591682</td>\n",
       "      <td>0</td>\n",
       "      <td>0</td>\n",
       "    </tr>\n",
       "    <tr>\n",
       "      <td>2009-01-06</td>\n",
       "      <td>0.000484649</td>\n",
       "      <td>GBP</td>\n",
       "      <td>2M</td>\n",
       "      <td>0.0240875</td>\n",
       "      <td>0.0071875</td>\n",
       "      <td>139.69</td>\n",
       "      <td>10000</td>\n",
       "      <td>20000</td>\n",
       "      <td>0.0946591</td>\n",
       "      <td>0</td>\n",
       "      <td>0</td>\n",
       "    </tr>\n",
       "    <tr>\n",
       "      <td>2009-01-07</td>\n",
       "      <td>0.000484649</td>\n",
       "      <td>GBP</td>\n",
       "      <td>2M</td>\n",
       "      <td>0.023675</td>\n",
       "      <td>0.007075</td>\n",
       "      <td>139.85</td>\n",
       "      <td>10000</td>\n",
       "      <td>20000</td>\n",
       "      <td>0.096636</td>\n",
       "      <td>0</td>\n",
       "      <td>0</td>\n",
       "    </tr>\n",
       "    <tr>\n",
       "      <td>2009-01-08</td>\n",
       "      <td>0.000484649</td>\n",
       "      <td>GBP</td>\n",
       "      <td>2M</td>\n",
       "      <td>0.0230375</td>\n",
       "      <td>0.0069375</td>\n",
       "      <td>138.773</td>\n",
       "      <td>10000</td>\n",
       "      <td>20000</td>\n",
       "      <td>0.0805256</td>\n",
       "      <td>0</td>\n",
       "      <td>0</td>\n",
       "    </tr>\n",
       "    <tr>\n",
       "      <td>...</td>\n",
       "      <td>...</td>\n",
       "      <td>...</td>\n",
       "      <td>...</td>\n",
       "      <td>...</td>\n",
       "      <td>...</td>\n",
       "      <td>...</td>\n",
       "      <td>...</td>\n",
       "      <td>...</td>\n",
       "      <td>...</td>\n",
       "      <td>...</td>\n",
       "      <td>...</td>\n",
       "    </tr>\n",
       "    <tr>\n",
       "      <td>2019-11-05</td>\n",
       "      <td>5.13588e-05</td>\n",
       "      <td>AUD</td>\n",
       "      <td>2M</td>\n",
       "      <td>0.0092</td>\n",
       "      <td>-0.000965</td>\n",
       "      <td>75.247</td>\n",
       "      <td>16811.8</td>\n",
       "      <td>33623.7</td>\n",
       "      <td>0.0857553</td>\n",
       "      <td>0.681185</td>\n",
       "      <td>-0.301316</td>\n",
       "    </tr>\n",
       "    <tr>\n",
       "      <td>2019-11-06</td>\n",
       "      <td>5.13588e-05</td>\n",
       "      <td>AUD</td>\n",
       "      <td>2M</td>\n",
       "      <td>0.0093</td>\n",
       "      <td>-0.000935</td>\n",
       "      <td>75.024</td>\n",
       "      <td>16811.8</td>\n",
       "      <td>33623.7</td>\n",
       "      <td>0.0795475</td>\n",
       "      <td>0.681185</td>\n",
       "      <td>-0.301316</td>\n",
       "    </tr>\n",
       "    <tr>\n",
       "      <td>2019-11-07</td>\n",
       "      <td>5.13588e-05</td>\n",
       "      <td>AUD</td>\n",
       "      <td>2M</td>\n",
       "      <td>0.009183</td>\n",
       "      <td>-0.0010383</td>\n",
       "      <td>75.385</td>\n",
       "      <td>16811.8</td>\n",
       "      <td>33623.7</td>\n",
       "      <td>0.0895318</td>\n",
       "      <td>0.681185</td>\n",
       "      <td>-0.301316</td>\n",
       "    </tr>\n",
       "    <tr>\n",
       "      <td>2019-11-08</td>\n",
       "      <td>5.13588e-05</td>\n",
       "      <td>AUD</td>\n",
       "      <td>2M</td>\n",
       "      <td>0.009216</td>\n",
       "      <td>-0.00109</td>\n",
       "      <td>74.938</td>\n",
       "      <td>16811.8</td>\n",
       "      <td>33623.7</td>\n",
       "      <td>0.0746929</td>\n",
       "      <td>0.681185</td>\n",
       "      <td>-0.301316</td>\n",
       "    </tr>\n",
       "    <tr>\n",
       "      <td>2019-11-11</td>\n",
       "      <td>5.13588e-05</td>\n",
       "      <td>AUD</td>\n",
       "      <td>2M</td>\n",
       "      <td>0.0091</td>\n",
       "      <td>-0.001135</td>\n",
       "      <td>74.704</td>\n",
       "      <td>16811.8</td>\n",
       "      <td>33623.7</td>\n",
       "      <td>0.0705299</td>\n",
       "      <td>0.681185</td>\n",
       "      <td>-0.301316</td>\n",
       "    </tr>\n",
       "  </tbody>\n",
       "</table>\n",
       "<p>2713 rows × 11 columns</p>\n",
       "</div>"
      ],
      "text/plain": [
       "                 Signal FX_name Period Foreign_IR Domestic_IR  FX_Rate  \\\n",
       "Date                                                                     \n",
       "2009-01-02  0.000484649     GBP     2M    0.02505   0.0075625  133.563   \n",
       "2009-01-05  0.000484649     GBP     2M    0.02445   0.0073875  137.348   \n",
       "2009-01-06  0.000484649     GBP     2M  0.0240875   0.0071875   139.69   \n",
       "2009-01-07  0.000484649     GBP     2M   0.023675    0.007075   139.85   \n",
       "2009-01-08  0.000484649     GBP     2M  0.0230375   0.0069375  138.773   \n",
       "...                 ...     ...    ...        ...         ...      ...   \n",
       "2019-11-05  5.13588e-05     AUD     2M     0.0092   -0.000965   75.247   \n",
       "2019-11-06  5.13588e-05     AUD     2M     0.0093   -0.000935   75.024   \n",
       "2019-11-07  5.13588e-05     AUD     2M   0.009183  -0.0010383   75.385   \n",
       "2019-11-08  5.13588e-05     AUD     2M   0.009216    -0.00109   74.938   \n",
       "2019-11-11  5.13588e-05     AUD     2M     0.0091   -0.001135   74.704   \n",
       "\n",
       "             Equity Asset Pos Unreal_Return Real_Return  Drawdown  \n",
       "Date                                                               \n",
       "2009-01-02    10000     20000     0.0014587           0         0  \n",
       "2009-01-05    10000     20000     0.0591682           0         0  \n",
       "2009-01-06    10000     20000     0.0946591           0         0  \n",
       "2009-01-07    10000     20000      0.096636           0         0  \n",
       "2009-01-08    10000     20000     0.0805256           0         0  \n",
       "...             ...       ...           ...         ...       ...  \n",
       "2019-11-05  16811.8   33623.7     0.0857553    0.681185 -0.301316  \n",
       "2019-11-06  16811.8   33623.7     0.0795475    0.681185 -0.301316  \n",
       "2019-11-07  16811.8   33623.7     0.0895318    0.681185 -0.301316  \n",
       "2019-11-08  16811.8   33623.7     0.0746929    0.681185 -0.301316  \n",
       "2019-11-11  16811.8   33623.7     0.0705299    0.681185 -0.301316  \n",
       "\n",
       "[2713 rows x 11 columns]"
      ]
     },
     "execution_count": 11,
     "metadata": {},
     "output_type": "execute_result"
    }
   ],
   "source": [
    "results_post_crisis"
   ]
  },
  {
   "cell_type": "code",
   "execution_count": 12,
   "metadata": {},
   "outputs": [
    {
     "name": "stdout",
     "output_type": "stream",
     "text": [
      "Cumulative Return in the post-crisis scenario: 0.6811848552276105\n",
      "Cumulative Return in the pre-crisis scenario: -0.3585947561379189\n",
      "Max Drawdown in the post-crisis scenario: -0.3831904787844942\n",
      "Max Drawdown in the pre-crisis scenario: -0.7247113114426323\n"
     ]
    }
   ],
   "source": [
    "print('Cumulative Return in the post-crisis scenario:', results_post_crisis['Real_Return'][-1])\n",
    "print('Cumulative Return in the pre-crisis scenario:', results_pre_crisis['Real_Return'][-1])\n",
    "print('Max Drawdown in the post-crisis scenario:', results_post_crisis['Drawdown'].min())\n",
    "print('Max Drawdown in the pre-crisis scenario:', results_pre_crisis['Drawdown'].min())"
   ]
  },
  {
   "cell_type": "code",
   "execution_count": 13,
   "metadata": {},
   "outputs": [],
   "source": [
    "# if you want to test single currency or single trading period, just modify the following list\n",
    "usd_list = ['USD']\n",
    "aud_list = ['AUD']\n",
    "gbp_list = ['GBP']"
   ]
  },
  {
   "cell_type": "code",
   "execution_count": 14,
   "metadata": {},
   "outputs": [
    {
     "name": "stdout",
     "output_type": "stream",
     "text": [
      "2019-11-26 16:34:02:759614: Beginning Carry-Trade Strategy run\n",
      "2019-11-26 16:34:15:981130: Algo run complete.\n",
      "2019-11-26 16:34:15:981572: Beginning Carry-Trade Strategy run\n",
      "2019-11-26 16:34:24:779166: Algo run complete.\n",
      "2019-11-26 16:34:24:779667: Beginning Carry-Trade Strategy run\n",
      "2019-11-26 16:34:43:637496: Algo run complete.\n"
     ]
    }
   ],
   "source": [
    "results_usd = ct.algo_loop(final_data_new.iloc[324:], usd_list, period_list, leverage = 2.0)\n",
    "results_aud = ct.algo_loop(final_data_new.iloc[324:], aud_list, period_list, leverage = 2.0)\n",
    "results_gbp = ct.algo_loop(final_data_new.iloc[324:], gbp_list, period_list, leverage = 2.0)"
   ]
  },
  {
   "cell_type": "code",
   "execution_count": 15,
   "metadata": {},
   "outputs": [
    {
     "name": "stdout",
     "output_type": "stream",
     "text": [
      "Cumulative Return, USD only: 0.015332769349171382\n"
     ]
    }
   ],
   "source": [
    "results_usd.to_csv('Results/results_usd.csv')\n",
    "print('Cumulative Return, USD only:', results_usd['Real_Return'][-1])"
   ]
  },
  {
   "cell_type": "code",
   "execution_count": 16,
   "metadata": {},
   "outputs": [
    {
     "name": "stdout",
     "output_type": "stream",
     "text": [
      "Cumulative Return, AUD only: 0.3883647339032503\n"
     ]
    }
   ],
   "source": [
    "results_aud.to_csv('Results/results_aud.csv')\n",
    "print('Cumulative Return, AUD only:', results_aud['Real_Return'][-1])"
   ]
  },
  {
   "cell_type": "code",
   "execution_count": 17,
   "metadata": {},
   "outputs": [
    {
     "name": "stdout",
     "output_type": "stream",
     "text": [
      "Cumulative Return, GBP only: 0.32343472268958107\n"
     ]
    }
   ],
   "source": [
    "results_gbp.to_csv('Results/results_gbp.csv')\n",
    "print('Cumulative Return, GBP only:', results_gbp['Real_Return'][-1])"
   ]
  },
  {
   "cell_type": "markdown",
   "metadata": {},
   "source": [
    "## 3. Analysis "
   ]
  },
  {
   "cell_type": "markdown",
   "metadata": {},
   "source": [
    "## 3.1 After Crisis\n",
    "[USD, GBP, AUD]\n",
    "\n",
    "put in one time series graph: [USD], [GBP], [AUD]\n",
    "\n"
   ]
  },
  {
   "cell_type": "markdown",
   "metadata": {},
   "source": [
    "### 3.1.1 Realized Return Time Series"
   ]
  },
  {
   "cell_type": "code",
   "execution_count": 18,
   "metadata": {},
   "outputs": [
    {
     "name": "stderr",
     "output_type": "stream",
     "text": [
      "findfont: Font family ['normal'] not found. Falling back to DejaVu Sans.\n",
      "findfont: Font family ['normal'] not found. Falling back to DejaVu Sans.\n"
     ]
    },
    {
     "data": {
      "image/png": "[encoded data removed]",
      "text/plain": [
       "<Figure size 1152x648 with 1 Axes>"
      ]
     },
     "metadata": {
      "needs_background": "light"
     },
     "output_type": "display_data"
    }
   ],
   "source": [
    "results_post_crisis['Equity'].plot(label='Portfolios')\n",
    "results_usd['Equity'].plot(label='USD')\n",
    "results_gbp['Equity'].plot(label='GBP')\n",
    "results_aud['Equity'].plot(label='AUD')\n",
    "plt.legend()\n",
    "plt.xlabel('Time')\n",
    "plt.ylabel('Equity')\n",
    "plt.title('Cumulative Return on Different Currencies (After Crisis)')\n",
    "plt.show()\n",
    "# plt.savefig('Results/Real_Return_4comb_post_crisis.jpg')"
   ]
  },
  {
   "cell_type": "markdown",
   "metadata": {},
   "source": [
    "As you can see, the diversified portfolio tends to outperform but closely track the AUD portfolio, which makes sense due to the high spread between the Japanese and AUstralian interest rates"
   ]
  },
  {
   "cell_type": "markdown",
   "metadata": {},
   "source": [
    "### 3.1.2 Realized Return Histogram"
   ]
  },
  {
   "cell_type": "code",
   "execution_count": 49,
   "metadata": {},
   "outputs": [
    {
     "data": {
      "image/png": "[encoded data removed]",
      "text/plain": [
       "<Figure size 1152x648 with 1 Axes>"
      ]
     },
     "metadata": {},
     "output_type": "display_data"
    }
   ],
   "source": [
    "results_09['Real_Return'].hist(width=0.05, label='Portfolios')\n",
    "plt.legend()\n",
    "plt.xlabel('Return')\n",
    "plt.ylabel('Frequencies')\n",
    "plt.title('Histogram of Realized Return')\n",
    "plt.show()\n",
    "# plt.savefig('Results/Real_Return_hist_post_crisis.jpg')"
   ]
  },
  {
   "cell_type": "markdown",
   "metadata": {},
   "source": [
    "### 3.1.3 Unrealized Return Histogram"
   ]
  },
  {
   "cell_type": "code",
   "execution_count": 50,
   "metadata": {},
   "outputs": [
    {
     "data": {
      "image/png": "[encoded data removed]",
      "text/plain": [
       "<Figure size 1152x648 with 1 Axes>"
      ]
     },
     "metadata": {},
     "output_type": "display_data"
    }
   ],
   "source": [
    "results_09['Unreal_Return'].hist(width=0.03, label='Portfolios')\n",
    "plt.legend()\n",
    "plt.xlabel('Return')\n",
    "plt.ylabel('Frequencies')\n",
    "plt.title('Histogram of Unrealized Return')\n",
    "plt.show()\n",
    "# plt.savefig('Results/Unreal_Return_post_crisis.jpg')"
   ]
  },
  {
   "cell_type": "markdown",
   "metadata": {},
   "source": [
    "### 3.1.4 Value at Risk\n",
    "\n",
    "* sort return from smallest to largest\n",
    "* calculate quantile(0.05) = 95%"
   ]
  },
  {
   "cell_type": "code",
   "execution_count": 20,
   "metadata": {},
   "outputs": [
    {
     "name": "stdout",
     "output_type": "stream",
     "text": [
      "VaR at 90%: -0.0179248099824\n",
      "VaR at 95%: -0.0462553855463\n",
      "VaR at 99%: -0.162634905273\n"
     ]
    }
   ],
   "source": [
    "return_09 = results_09['Unreal_Return'].sort_values()\n",
    "print('VaR at 90%:', return_09.quantile(0.1))\n",
    "print('VaR at 95%:', return_09.quantile(0.05))\n",
    "print('VaR at 99%:', return_09.quantile(0.01))\n",
    "#return_09"
   ]
  },
  {
   "cell_type": "markdown",
   "metadata": {},
   "source": [
    "### 3.1.5 Sharpe Ratio and Volatility\n",
    "\n",
    "# $\\frac{\\mu} {\\sigma}$"
   ]
  },
  {
   "cell_type": "code",
   "execution_count": 21,
   "metadata": {},
   "outputs": [
    {
     "name": "stdout",
     "output_type": "stream",
     "text": [
      "Sharpe Ratio each day: 0.158239491021\n",
      "Sharpe Ratio each year: 2.50698501514\n"
     ]
    }
   ],
   "source": [
    "sharpe_09 =  results_09['Unreal_Return'].mean()/results_09['Unreal_Return'].std()\n",
    "print('Sharpe Ratio each day:', sharpe_09)\n",
    "print('Sharpe Ratio each year:', sharpe_09 * np.sqrt(251))"
   ]
  },
  {
   "cell_type": "code",
   "execution_count": 22,
   "metadata": {},
   "outputs": [
    {
     "name": "stdout",
     "output_type": "stream",
     "text": [
      "Volatility, after crisis: 0.315506671238\n"
     ]
    }
   ],
   "source": [
    "volatility_09 = results_09['Real_Return'].std()\n",
    "print('Volatility, after crisis:', volatility_09)"
   ]
  },
  {
   "cell_type": "markdown",
   "metadata": {},
   "source": [
    "## 3.2 Before Crisis vs. After Crisis\n",
    "time series graph;  sharpe ratio"
   ]
  },
  {
   "cell_type": "code",
   "execution_count": 23,
   "metadata": {},
   "outputs": [],
   "source": [
    "results_09['Equity'].plot(label='After Crisis')\n",
    "results_07['Equity'].plot(label='Before Crisis')\n",
    "plt.legend()\n",
    "plt.xlabel('Time')\n",
    "plt.ylabel('Equity')\n",
    "plt.title('Before Crisis vs. After Crisis')\n",
    "plt.savefig('Results/Real_Return_before&post_crisis.jpg')"
   ]
  },
  {
   "cell_type": "markdown",
   "metadata": {},
   "source": [
    "### 3.2.1 Value at Risk"
   ]
  },
  {
   "cell_type": "code",
   "execution_count": 24,
   "metadata": {},
   "outputs": [
    {
     "name": "stdout",
     "output_type": "stream",
     "text": [
      "VaR at 90%, after crisis: -0.0179248099824\n",
      "VaR at 95%, after crisis: -0.0462553855463\n",
      "VaR at 99%, after crisis: -0.162634905273\n"
     ]
    }
   ],
   "source": [
    "return_09 = results_09['Unreal_Return'].sort_values()\n",
    "print('VaR at 90%, after crisis:', return_09.quantile(0.1))\n",
    "print('VaR at 95%, after crisis:', return_09.quantile(0.05))\n",
    "print('VaR at 99%, after crisis:', return_09.quantile(0.01))\n",
    "#return_09"
   ]
  },
  {
   "cell_type": "code",
   "execution_count": 25,
   "metadata": {},
   "outputs": [
    {
     "name": "stdout",
     "output_type": "stream",
     "text": [
      "VaR at 90%, before crisis: -0.03720340479\n",
      "VaR at 95%, before crisis: -0.0956858025076\n",
      "VaR at 99%, before crisis: -0.235242714278\n"
     ]
    }
   ],
   "source": [
    "return_07 = results_07['Unreal_Return'].sort_values()\n",
    "print('VaR at 90%, before crisis:', return_07.quantile(0.1)*-1)\n",
    "print('VaR at 95%, before crisis:', return_07.quantile(0.05)*-1)\n",
    "print('VaR at 99%, before crisis:', return_07.quantile(0.01))*-1\n",
    "#return_09"
   ]
  },
  {
   "cell_type": "markdown",
   "metadata": {},
   "source": [
    "### 3.2.2 Sharpe Ratio and Volatility"
   ]
  },
  {
   "cell_type": "code",
   "execution_count": 26,
   "metadata": {},
   "outputs": [
    {
     "name": "stdout",
     "output_type": "stream",
     "text": [
      "Sharpe Ratio each day, before crisis: 0.0118466228733\n",
      "Sharpe Ratio each year, before crisis: 0.187685803537\n"
     ]
    }
   ],
   "source": [
    "sharpe_07 =  results_07['Unreal_Return'].mean()/results_07['Unreal_Return'].std()\n",
    "print('Daily Sharpe Ratio before crisis:', sharpe_07)\n",
    "print('Annual Sharpe Ratio before crisis:', sharpe_07 * np.sqrt(251))"
   ]
  },
  {
   "cell_type": "code",
   "execution_count": 27,
   "metadata": {},
   "outputs": [
    {
     "name": "stdout",
     "output_type": "stream",
     "text": [
      "Volatility, after crisis: 0.315506671238\n",
      "Volatility, before crisis: 0.151602213327\n"
     ]
    }
   ],
   "source": [
    "volatility_07 = results_07['Real_Return'].std()\n",
    "print('Volatility, after crisis:', volatility_09)\n",
    "print('Volatility, before crisis:', volatility_07)"
   ]
  },
  {
   "cell_type": "markdown",
   "metadata": {},
   "source": [
    "## 3.3 Leverage Analysis"
   ]
  },
  {
   "cell_type": "markdown",
   "metadata": {},
   "source": [
    "### 3.3.1 After Crisis"
   ]
  },
  {
   "cell_type": "code",
   "execution_count": 28,
   "metadata": {},
   "outputs": [
    {
     "name": "stdout",
     "output_type": "stream",
     "text": [
      "2019-11-25 23:49:47:965476: Beginning Carry-Trade Strategy run\n",
      "2019-11-25 23:50:41:941590: Algo run complete.\n",
      "2019-11-25 23:50:41:943618: Beginning Carry-Trade Strategy run\n",
      "2019-11-25 23:51:32:895456: Algo run complete.\n",
      "2019-11-25 23:51:32:895456: Beginning Carry-Trade Strategy run\n",
      "2019-11-25 23:52:30:058980: Algo run complete.\n",
      "2019-11-25 23:52:30:059978: Beginning Carry-Trade Strategy run\n",
      "2019-11-25 23:53:46:869945: Algo run complete.\n"
     ]
    }
   ],
   "source": [
    "results_09_l3 = ct.algo_loop(final_data_new.iloc[324:], fx_list, period_list, leverage = 3.0)\n",
    "results_09_l4 = ct.algo_loop(final_data_new.iloc[324:], fx_list, period_list, leverage = 4.0)\n",
    "results_09_l5 = ct.algo_loop(final_data_new.iloc[324:], fx_list, period_list, leverage = 5.0)\n",
    "results_09_l6 = ct.algo_loop(final_data_new.iloc[324:], fx_list, period_list, leverage = 6.0)"
   ]
  },
  {
   "cell_type": "code",
   "execution_count": 29,
   "metadata": {},
   "outputs": [],
   "source": [
    "results_09['Equity'].plot(label='L = 2')\n",
    "results_09_l3['Equity'].plot(label='L = 3')\n",
    "results_09_l4['Equity'].plot(label='L = 4')\n",
    "results_09_l5['Equity'].plot(label='L = 5')\n",
    "results_09_l6['Equity'].plot(label='L = 6')\n",
    "plt.grid(True, axis='y')\n",
    "plt.legend(loc='upper right')\n",
    "plt.xlabel('Time')\n",
    "plt.ylabel('Equity')\n",
    "plt.title('Equity with Different Leverage (after crisis)')\n",
    "plt.savefig('Results/Real_Return_leverages_post_crisis.jpg')"
   ]
  },
  {
   "cell_type": "code",
   "execution_count": 30,
   "metadata": {},
   "outputs": [
    {
     "name": "stdout",
     "output_type": "stream",
     "text": [
      "L2, Sharpe Ratio each year: 2.50698501514\n",
      "L3, Sharpe Ratio each year: 2.49636353176\n",
      "L4, Sharpe Ratio each year: 2.49104876311\n",
      "L5, Sharpe Ratio each year: 2.48785861784\n",
      "L6, Sharpe Ratio each year: 2.48573132034\n"
     ]
    }
   ],
   "source": [
    "sharpe_09 =  results_09['Unreal_Return'].mean()/results_09['Unreal_Return'].std()\n",
    "sharpe_09_l3 =  results_09_l3['Unreal_Return'].mean()/results_09_l3['Unreal_Return'].std()\n",
    "sharpe_09_l4 =  results_09_l4['Unreal_Return'].mean()/results_09_l4['Unreal_Return'].std()\n",
    "sharpe_09_l5 =  results_09_l5['Unreal_Return'].mean()/results_09_l5['Unreal_Return'].std()\n",
    "sharpe_09_l6 =  results_09_l6['Unreal_Return'].mean()/results_09_l6['Unreal_Return'].std()\n",
    "\n",
    "\n",
    "print('L2, Sharpe Ratio each year:', sharpe_09 * np.sqrt(251))\n",
    "print('L3, Sharpe Ratio each year:', sharpe_09_l3 * np.sqrt(251))\n",
    "print('L4, Sharpe Ratio each year:', sharpe_09_l4 * np.sqrt(251))\n",
    "print('L5, Sharpe Ratio each year:', sharpe_09_l5 * np.sqrt(251))\n",
    "print('L6, Sharpe Ratio each year:', sharpe_09_l6 * np.sqrt(251))\n"
   ]
  },
  {
   "cell_type": "markdown",
   "metadata": {},
   "source": [
    "### 3.3.2 Before Crisis"
   ]
  },
  {
   "cell_type": "code",
   "execution_count": 31,
   "metadata": {},
   "outputs": [
    {
     "name": "stdout",
     "output_type": "stream",
     "text": [
      "2019-11-25 23:53:47:952505: Beginning Carry-Trade Strategy run\n",
      "2019-11-25 23:55:04:805755: Algo run complete.\n",
      "2019-11-25 23:55:04:805755: Beginning Carry-Trade Strategy run\n",
      "2019-11-25 23:55:08:130022: Algo run complete.\n",
      "2019-11-25 23:55:08:130022: Beginning Carry-Trade Strategy run\n",
      "2019-11-25 23:55:11:137254: Algo run complete.\n",
      "2019-11-25 23:55:11:137254: Beginning Carry-Trade Strategy run\n",
      "2019-11-25 23:55:14:458207: Algo run complete.\n"
     ]
    }
   ],
   "source": [
    "results_07_l3 = ct.algo_loop(final_data_new, fx_list, period_list, leverage = 3.0)\n",
    "results_07_l4 = ct.algo_loop(final_data_new, fx_list, period_list, leverage = 4.0)\n",
    "results_07_l5 = ct.algo_loop(final_data_new, fx_list, period_list, leverage = 5.0)\n",
    "results_07_l6 = ct.algo_loop(final_data_new, fx_list, period_list, leverage = 6.0)"
   ]
  },
  {
   "cell_type": "code",
   "execution_count": 32,
   "metadata": {},
   "outputs": [],
   "source": [
    "results_07['Equity'].plot(label='L = 2')\n",
    "results_07_l3['Equity'].plot(label='L = 3')\n",
    "results_07_l4['Equity'].plot(label='L = 4')\n",
    "results_07_l5['Equity'].plot(label='L = 5')\n",
    "results_07_l6['Equity'].plot(label='L = 6')\n",
    "plt.grid(True, axis='y')\n",
    "plt.legend(loc='upper right')\n",
    "plt.xlabel('Time')\n",
    "plt.ylabel('Equity')\n",
    "plt.title('Equity with Different Leverage (before crisis)')\n",
    "plt.savefig('Results/Real_Return_leverage_before_crisis.jpg')"
   ]
  },
  {
   "cell_type": "code",
   "execution_count": 33,
   "metadata": {},
   "outputs": [
    {
     "name": "stdout",
     "output_type": "stream",
     "text": [
      "L2, Sharpe Ratio each year: 0.187685803537\n",
      "L3, Sharpe Ratio each year: 0.17116406193\n",
      "L4, Sharpe Ratio each year: -5.84016592716\n",
      "L5, Sharpe Ratio each year: -5.85222451531\n",
      "L6, Sharpe Ratio each year: -5.86026209742\n"
     ]
    }
   ],
   "source": [
    "sharpe_07 =  results_07['Unreal_Return'].mean()/results_07['Unreal_Return'].std()\n",
    "sharpe_07_l3 =  results_07_l3['Unreal_Return'].mean()/results_07_l3['Unreal_Return'].std()\n",
    "sharpe_07_l4 =  results_07_l4['Unreal_Return'].mean()/results_07_l4['Unreal_Return'].std()\n",
    "sharpe_07_l5 =  results_07_l5['Unreal_Return'].mean()/results_07_l5['Unreal_Return'].std()\n",
    "sharpe_07_l6 =  results_07_l6['Unreal_Return'].mean()/results_07_l6['Unreal_Return'].std()\n",
    "\n",
    "\n",
    "print('L2, Sharpe Ratio each year:', sharpe_07 * np.sqrt(251))\n",
    "print('L3, Sharpe Ratio each year:', sharpe_07_l3 * np.sqrt(251))\n",
    "print('L4, Sharpe Ratio each year:', sharpe_07_l4 * np.sqrt(251))\n",
    "print('L5, Sharpe Ratio each year:', sharpe_07_l5 * np.sqrt(251))\n",
    "print('L6, Sharpe Ratio each year:', sharpe_07_l6 * np.sqrt(251))"
   ]
  },
  {
   "cell_type": "code",
   "execution_count": null,
   "metadata": {
    "collapsed": true
   },
   "outputs": [],
   "source": []
  }
 ],
 "metadata": {
  "kernelspec": {
   "display_name": "Python 3",
   "language": "python",
   "name": "python3"
  },
  "language_info": {
   "codemirror_mode": {
    "name": "ipython",
    "version": 3
   },
   "file_extension": ".py",
   "mimetype": "text/x-python",
   "name": "python",
   "nbconvert_exporter": "python",
   "pygments_lexer": "ipython3",
   "version": "3.7.4"
  }
 },
 "nbformat": 4,
 "nbformat_minor": 2
}
