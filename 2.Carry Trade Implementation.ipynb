{
 "cells": [
  {
   "cell_type": "markdown",
   "metadata": {},
   "source": [
    "# FX Leverage Carry-Trade"
   ]
  },
  {
   "cell_type": "code",
   "execution_count": 1,
   "metadata": {},
   "outputs": [],
   "source": [
    "import numpy as np\n",
    "import pandas as pd\n",
    "import matplotlib\n",
    "import matplotlib.pyplot as plt\n",
    "import carry_trade as ct\n",
    "import datetime as dt\n",
    "\n",
    "from date_function_v2 import holiday_adjust\n",
    "\n",
    "matplotlib.rcParams[ 'figure.figsize' ] = ( 16, 9 )"
   ]
  },
  {
   "cell_type": "markdown",
   "metadata": {},
   "source": [
    "## 1. Load data"
   ]
  },
  {
   "cell_type": "code",
   "execution_count": 2,
   "metadata": {},
   "outputs": [],
   "source": [
    "data_path = 'Final_Data/Final_sorted.csv'\n",
    "final_data = pd.read_csv(data_path)"
   ]
  },
  {
   "cell_type": "code",
   "execution_count": 3,
   "metadata": {},
   "outputs": [],
   "source": [
    "final_data = final_data.set_index('Date')\n",
    "final_data.index = pd.to_datetime(final_data.index)"
   ]
  },
  {
   "cell_type": "code",
   "execution_count": 4,
   "metadata": {},
   "outputs": [
    {
     "data": {
      "text/plain": [
       "Index(['GBP_Spot', 'GBP_1W', 'GBP_1M', 'GBP_2M', 'GBP_LIBOR_1W',\n",
       "       'GBP_LIBOR_1M', 'GBP_LIBOR_2M', 'AUD_Spot', 'AUD_1M', 'AUD_2M',\n",
       "       'AUD_LIBOR_1M', 'AUD_LIBOR_2M', 'USD_Spot', 'USD_1W', 'USD_1M',\n",
       "       'USD_2M', 'USD_LIBOR_1W', 'USD_LIBOR_1M', 'USD_LIBOR_2M',\n",
       "       'JPY_LIBOR_1W', 'JPY_LIBOR_1M', 'JPY_LIBOR_2M'],\n",
       "      dtype='object')"
      ]
     },
     "execution_count": 4,
     "metadata": {},
     "output_type": "execute_result"
    }
   ],
   "source": [
    "final_data.columns"
   ]
  },
  {
   "cell_type": "markdown",
   "metadata": {},
   "source": [
    "## 2. Implement Strategy "
   ]
  },
  {
   "cell_type": "code",
   "execution_count": 5,
   "metadata": {},
   "outputs": [],
   "source": [
    "# if you want to test single currency or single trading period, just modify the following list\n",
    "\n",
    "fx_list = ['USD', 'AUD', 'GBP']\n",
    "period_list = [7, 30, 60]"
   ]
  },
  {
   "cell_type": "code",
   "execution_count": 6,
   "metadata": {},
   "outputs": [
    {
     "name": "stdout",
     "output_type": "stream",
     "text": [
      "2019-11-16 23:36:33:595479: Beginning Carry-Trade Strategy run\n"
     ]
    },
    {
     "name": "stderr",
     "output_type": "stream",
     "text": [
      "/Users/trevor/anaconda3/lib/python3.7/site-packages/pandas/core/series.py:1152: FutureWarning: \n",
      "Passing list-likes to .loc or [] with any missing label will raise\n",
      "KeyError in the future, you can use .reindex() as an alternative.\n",
      "\n",
      "See the documentation here:\n",
      "https://pandas.pydata.org/pandas-docs/stable/user_guide/indexing.html#deprecate-loc-reindex-listlike\n",
      "  return self.loc[key]\n"
     ]
    },
    {
     "name": "stdout",
     "output_type": "stream",
     "text": [
      "2019-11-16 23:37:01:089211: Algo run complete.\n"
     ]
    }
   ],
   "source": [
    "results = ct.algo_loop(final_data, fx_list, period_list, leverage = 2.0)"
   ]
  },
  {
   "cell_type": "code",
   "execution_count": 8,
   "metadata": {},
   "outputs": [],
   "source": [
    "results.to_csv('Results/results.csv')"
   ]
  },
  {
   "cell_type": "code",
   "execution_count": 7,
   "metadata": {},
   "outputs": [
    {
     "data": {
      "text/html": [
       "<div>\n",
       "<style scoped>\n",
       "    .dataframe tbody tr th:only-of-type {\n",
       "        vertical-align: middle;\n",
       "    }\n",
       "\n",
       "    .dataframe tbody tr th {\n",
       "        vertical-align: top;\n",
       "    }\n",
       "\n",
       "    .dataframe thead th {\n",
       "        text-align: right;\n",
       "    }\n",
       "</style>\n",
       "<table border=\"1\" class=\"dataframe\">\n",
       "  <thead>\n",
       "    <tr style=\"text-align: right;\">\n",
       "      <th></th>\n",
       "      <th>Signal</th>\n",
       "      <th>FX_name</th>\n",
       "      <th>Period</th>\n",
       "      <th>Foreign_IR</th>\n",
       "      <th>Domestic_IR</th>\n",
       "      <th>FX_Rate</th>\n",
       "      <th>Equity</th>\n",
       "      <th>Asset Pos</th>\n",
       "      <th>Unreal_Return</th>\n",
       "      <th>Real_Return</th>\n",
       "    </tr>\n",
       "    <tr>\n",
       "      <th>Date</th>\n",
       "      <th></th>\n",
       "      <th></th>\n",
       "      <th></th>\n",
       "      <th></th>\n",
       "      <th></th>\n",
       "      <th></th>\n",
       "      <th></th>\n",
       "      <th></th>\n",
       "      <th></th>\n",
       "      <th></th>\n",
       "    </tr>\n",
       "  </thead>\n",
       "  <tbody>\n",
       "    <tr>\n",
       "      <td>2007-09-21</td>\n",
       "      <td>0.00978355</td>\n",
       "      <td>AUD</td>\n",
       "      <td>2M</td>\n",
       "      <td>0.06835</td>\n",
       "      <td>0.0089625</td>\n",
       "      <td>100.089</td>\n",
       "      <td>10000</td>\n",
       "      <td>20000</td>\n",
       "      <td>0.127738</td>\n",
       "      <td>0</td>\n",
       "    </tr>\n",
       "    <tr>\n",
       "      <td>2007-09-24</td>\n",
       "      <td>0.00973962</td>\n",
       "      <td>AUD</td>\n",
       "      <td>2M</td>\n",
       "      <td>0.0681</td>\n",
       "      <td>0.008975</td>\n",
       "      <td>99.7</td>\n",
       "      <td>10000</td>\n",
       "      <td>20000</td>\n",
       "      <td>0.118923</td>\n",
       "      <td>0</td>\n",
       "    </tr>\n",
       "    <tr>\n",
       "      <td>2007-09-25</td>\n",
       "      <td>0.00975187</td>\n",
       "      <td>AUD</td>\n",
       "      <td>2M</td>\n",
       "      <td>0.0682</td>\n",
       "      <td>0.009</td>\n",
       "      <td>100.223</td>\n",
       "      <td>10000</td>\n",
       "      <td>20000</td>\n",
       "      <td>0.13026</td>\n",
       "      <td>0</td>\n",
       "    </tr>\n",
       "    <tr>\n",
       "      <td>2007-09-26</td>\n",
       "      <td>0.00974128</td>\n",
       "      <td>AUD</td>\n",
       "      <td>2M</td>\n",
       "      <td>0.06815</td>\n",
       "      <td>0.009</td>\n",
       "      <td>101.295</td>\n",
       "      <td>10000</td>\n",
       "      <td>20000</td>\n",
       "      <td>0.153041</td>\n",
       "      <td>0</td>\n",
       "    </tr>\n",
       "    <tr>\n",
       "      <td>2007-09-27</td>\n",
       "      <td>0.00977635</td>\n",
       "      <td>AUD</td>\n",
       "      <td>2M</td>\n",
       "      <td>0.068375</td>\n",
       "      <td>0.009025</td>\n",
       "      <td>101.753</td>\n",
       "      <td>10000</td>\n",
       "      <td>20000</td>\n",
       "      <td>0.163249</td>\n",
       "      <td>0</td>\n",
       "    </tr>\n",
       "    <tr>\n",
       "      <td>...</td>\n",
       "      <td>...</td>\n",
       "      <td>...</td>\n",
       "      <td>...</td>\n",
       "      <td>...</td>\n",
       "      <td>...</td>\n",
       "      <td>...</td>\n",
       "      <td>...</td>\n",
       "      <td>...</td>\n",
       "      <td>...</td>\n",
       "      <td>...</td>\n",
       "    </tr>\n",
       "    <tr>\n",
       "      <td>2019-11-05</td>\n",
       "      <td>0.00321073</td>\n",
       "      <td>USD</td>\n",
       "      <td>2M</td>\n",
       "      <td>0.0185463</td>\n",
       "      <td>-0.000965</td>\n",
       "      <td>109.16</td>\n",
       "      <td>669269</td>\n",
       "      <td>1.33854e+06</td>\n",
       "      <td>0.0436715</td>\n",
       "      <td>65.9269</td>\n",
       "    </tr>\n",
       "    <tr>\n",
       "      <td>2019-11-06</td>\n",
       "      <td>0.00318966</td>\n",
       "      <td>USD</td>\n",
       "      <td>2M</td>\n",
       "      <td>0.0184525</td>\n",
       "      <td>-0.000935</td>\n",
       "      <td>108.98</td>\n",
       "      <td>669269</td>\n",
       "      <td>1.33854e+06</td>\n",
       "      <td>0.0400853</td>\n",
       "      <td>65.9269</td>\n",
       "    </tr>\n",
       "    <tr>\n",
       "      <td>2019-11-07</td>\n",
       "      <td>0.00320777</td>\n",
       "      <td>USD</td>\n",
       "      <td>2M</td>\n",
       "      <td>0.0184675</td>\n",
       "      <td>-0.0010383</td>\n",
       "      <td>109.28</td>\n",
       "      <td>669269</td>\n",
       "      <td>1.33854e+06</td>\n",
       "      <td>0.0458321</td>\n",
       "      <td>65.9269</td>\n",
       "    </tr>\n",
       "    <tr>\n",
       "      <td>2019-11-08</td>\n",
       "      <td>0.00322097</td>\n",
       "      <td>USD</td>\n",
       "      <td>2M</td>\n",
       "      <td>0.0185</td>\n",
       "      <td>-0.00109</td>\n",
       "      <td>109.26</td>\n",
       "      <td>669269</td>\n",
       "      <td>1.33854e+06</td>\n",
       "      <td>0.0455748</td>\n",
       "      <td>65.9269</td>\n",
       "    </tr>\n",
       "    <tr>\n",
       "      <td>2019-11-11</td>\n",
       "      <td>0.00320999</td>\n",
       "      <td>USD</td>\n",
       "      <td>2M</td>\n",
       "      <td>0.018385</td>\n",
       "      <td>-0.001135</td>\n",
       "      <td>109.05</td>\n",
       "      <td>669269</td>\n",
       "      <td>1.33854e+06</td>\n",
       "      <td>0.0414599</td>\n",
       "      <td>65.9269</td>\n",
       "    </tr>\n",
       "  </tbody>\n",
       "</table>\n",
       "<p>3037 rows × 10 columns</p>\n",
       "</div>"
      ],
      "text/plain": [
       "                Signal FX_name Period Foreign_IR Domestic_IR  FX_Rate  Equity  \\\n",
       "Date                                                                            \n",
       "2007-09-21  0.00978355     AUD     2M    0.06835   0.0089625  100.089   10000   \n",
       "2007-09-24  0.00973962     AUD     2M     0.0681    0.008975     99.7   10000   \n",
       "2007-09-25  0.00975187     AUD     2M     0.0682       0.009  100.223   10000   \n",
       "2007-09-26  0.00974128     AUD     2M    0.06815       0.009  101.295   10000   \n",
       "2007-09-27  0.00977635     AUD     2M   0.068375    0.009025  101.753   10000   \n",
       "...                ...     ...    ...        ...         ...      ...     ...   \n",
       "2019-11-05  0.00321073     USD     2M  0.0185463   -0.000965   109.16  669269   \n",
       "2019-11-06  0.00318966     USD     2M  0.0184525   -0.000935   108.98  669269   \n",
       "2019-11-07  0.00320777     USD     2M  0.0184675  -0.0010383   109.28  669269   \n",
       "2019-11-08  0.00322097     USD     2M     0.0185    -0.00109   109.26  669269   \n",
       "2019-11-11  0.00320999     USD     2M   0.018385   -0.001135   109.05  669269   \n",
       "\n",
       "              Asset Pos Unreal_Return Real_Return  \n",
       "Date                                               \n",
       "2007-09-21        20000      0.127738           0  \n",
       "2007-09-24        20000      0.118923           0  \n",
       "2007-09-25        20000       0.13026           0  \n",
       "2007-09-26        20000      0.153041           0  \n",
       "2007-09-27        20000      0.163249           0  \n",
       "...                 ...           ...         ...  \n",
       "2019-11-05  1.33854e+06     0.0436715     65.9269  \n",
       "2019-11-06  1.33854e+06     0.0400853     65.9269  \n",
       "2019-11-07  1.33854e+06     0.0458321     65.9269  \n",
       "2019-11-08  1.33854e+06     0.0455748     65.9269  \n",
       "2019-11-11  1.33854e+06     0.0414599     65.9269  \n",
       "\n",
       "[3037 rows x 10 columns]"
      ]
     },
     "execution_count": 7,
     "metadata": {},
     "output_type": "execute_result"
    }
   ],
   "source": [
    "results"
   ]
  },
  {
   "cell_type": "code",
   "execution_count": 9,
   "metadata": {},
   "outputs": [
    {
     "data": {
      "text/plain": [
       "0.4654253646445108"
      ]
     },
     "execution_count": 9,
     "metadata": {},
     "output_type": "execute_result"
    }
   ],
   "source": [
    "( results['Real_Return'][-1] + 1 )**(1/11) - 1"
   ]
  },
  {
   "cell_type": "markdown",
   "metadata": {},
   "source": [
    "## 3. Analysis "
   ]
  },
  {
   "cell_type": "code",
   "execution_count": null,
   "metadata": {},
   "outputs": [],
   "source": [
    "results['Real_Return'].plot()"
   ]
  },
  {
   "cell_type": "code",
   "execution_count": null,
   "metadata": {},
   "outputs": [],
   "source": [
    "results['FX_name'].hist()"
   ]
  },
  {
   "cell_type": "code",
   "execution_count": null,
   "metadata": {},
   "outputs": [],
   "source": [
    "results['Period'].hist()"
   ]
  },
  {
   "cell_type": "code",
   "execution_count": null,
   "metadata": {},
   "outputs": [],
   "source": []
  }
 ],
 "metadata": {
  "kernelspec": {
   "display_name": "Python 3",
   "language": "python",
   "name": "python3"
  },
  "language_info": {
   "codemirror_mode": {
    "name": "ipython",
    "version": 3
   },
   "file_extension": ".py",
   "mimetype": "text/x-python",
   "name": "python",
   "nbconvert_exporter": "python",
   "pygments_lexer": "ipython3",
   "version": "3.7.1"
  }
 },
 "nbformat": 4,
 "nbformat_minor": 2
}
