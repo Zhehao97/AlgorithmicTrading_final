{
 "cells": [
  {
   "cell_type": "markdown",
   "metadata": {},
   "source": [
    "# Data Set Up\n",
    "\n",
    "Merge FX rate, IR, Foward Rate"
   ]
  },
  {
   "cell_type": "code",
   "execution_count": 3,
   "metadata": {},
   "outputs": [],
   "source": [
    "import numpy as np\n",
    "import pandas as pd\n",
    "from datetime import datetime\n",
    "from dateutil.parser import parse"
   ]
  },
  {
   "cell_type": "code",
   "execution_count": 4,
   "metadata": {},
   "outputs": [],
   "source": [
    "# load data\n",
    "FX = pd.read_csv(\"Currency_Data.csv\")\n",
    "IR = pd.read_csv(\"IR_Data.csv\")\n",
    "FR = pd.read_csv(\"Foward_Rate_Data.csv\")"
   ]
  },
  {
   "cell_type": "code",
   "execution_count": 5,
   "metadata": {},
   "outputs": [],
   "source": [
    "# deal with date time\n",
    "FX['Date'] = FX['Date'].apply(lambda x:datetime.strptime(x, '%d/%m/%Y'))\n",
    "IR['Date'] = IR['Date'].apply(lambda x:datetime.strptime(x, '%d.%m.%Y'))\n",
    "FR['Date'] = FR['Date'].apply(lambda x:datetime.strptime(x, '%d/%m/%Y'))\n",
    "FR['SpotDate'] = FR['SpotDate'].apply(lambda x:datetime.strptime(x, '%d/%m/%Y'))"
   ]
  },
  {
   "cell_type": "code",
   "execution_count": 6,
   "metadata": {},
   "outputs": [],
   "source": [
    "# drop extra cols\n",
    "FR = FR.drop(['Currency', 'SpotRate'], axis=1)"
   ]
  },
  {
   "cell_type": "code",
   "execution_count": 7,
   "metadata": {},
   "outputs": [],
   "source": [
    "# merge threee dataframes\n",
    "FX_IR = pd.merge(FX,IR,on='Date')\n",
    "FX_IR_FR = pd.merge(FX_IR, FR, on='Date')"
   ]
  },
  {
   "cell_type": "code",
   "execution_count": 8,
   "metadata": {},
   "outputs": [
    {
     "data": {
      "text/html": [
       "<div>\n",
       "<style scoped>\n",
       "    .dataframe tbody tr th:only-of-type {\n",
       "        vertical-align: middle;\n",
       "    }\n",
       "\n",
       "    .dataframe tbody tr th {\n",
       "        vertical-align: top;\n",
       "    }\n",
       "\n",
       "    .dataframe thead th {\n",
       "        text-align: right;\n",
       "    }\n",
       "</style>\n",
       "<table border=\"1\" class=\"dataframe\">\n",
       "  <thead>\n",
       "    <tr style=\"text-align: right;\">\n",
       "      <th></th>\n",
       "      <th>Currency</th>\n",
       "      <th>Date</th>\n",
       "      <th>SpotRate</th>\n",
       "      <th>1MF</th>\n",
       "      <th>2MF</th>\n",
       "      <th>3MF</th>\n",
       "      <th>6MF</th>\n",
       "      <th>12MF</th>\n",
       "      <th>1MUSD</th>\n",
       "      <th>2MUSD</th>\n",
       "      <th>3MUSD</th>\n",
       "      <th>6MUSD</th>\n",
       "      <th>12MUSD</th>\n",
       "      <th>1MJPY</th>\n",
       "      <th>2MJPY</th>\n",
       "      <th>3MJPY</th>\n",
       "      <th>6MJPY</th>\n",
       "      <th>12MJPY</th>\n",
       "    </tr>\n",
       "  </thead>\n",
       "  <tbody>\n",
       "    <tr>\n",
       "      <td>1680</td>\n",
       "      <td>USD/JPY</td>\n",
       "      <td>2012-09-25</td>\n",
       "      <td>77.7900</td>\n",
       "      <td>77.7688</td>\n",
       "      <td>77.7486</td>\n",
       "      <td>77.7276</td>\n",
       "      <td>77.6375</td>\n",
       "      <td>77.4341</td>\n",
       "      <td>0.2155</td>\n",
       "      <td>0.29425</td>\n",
       "      <td>0.3635</td>\n",
       "      <td>0.64565</td>\n",
       "      <td>0.97825</td>\n",
       "      <td>0.13943</td>\n",
       "      <td>0.15443</td>\n",
       "      <td>0.19157</td>\n",
       "      <td>0.31943</td>\n",
       "      <td>0.53657</td>\n",
       "    </tr>\n",
       "    <tr>\n",
       "      <td>1681</td>\n",
       "      <td>USD/JPY</td>\n",
       "      <td>2012-09-25</td>\n",
       "      <td>77.7998</td>\n",
       "      <td>77.7788</td>\n",
       "      <td>77.7588</td>\n",
       "      <td>77.7368</td>\n",
       "      <td>77.6468</td>\n",
       "      <td>77.4312</td>\n",
       "      <td>0.2155</td>\n",
       "      <td>0.29425</td>\n",
       "      <td>0.3635</td>\n",
       "      <td>0.64565</td>\n",
       "      <td>0.97825</td>\n",
       "      <td>0.13943</td>\n",
       "      <td>0.15443</td>\n",
       "      <td>0.19157</td>\n",
       "      <td>0.31943</td>\n",
       "      <td>0.53657</td>\n",
       "    </tr>\n",
       "  </tbody>\n",
       "</table>\n",
       "</div>"
      ],
      "text/plain": [
       "     Currency       Date  SpotRate      1MF      2MF      3MF      6MF  \\\n",
       "1680  USD/JPY 2012-09-25   77.7900  77.7688  77.7486  77.7276  77.6375   \n",
       "1681  USD/JPY 2012-09-25   77.7998  77.7788  77.7588  77.7368  77.6468   \n",
       "\n",
       "         12MF   1MUSD    2MUSD   3MUSD    6MUSD   12MUSD    1MJPY    2MJPY  \\\n",
       "1680  77.4341  0.2155  0.29425  0.3635  0.64565  0.97825  0.13943  0.15443   \n",
       "1681  77.4312  0.2155  0.29425  0.3635  0.64565  0.97825  0.13943  0.15443   \n",
       "\n",
       "        3MJPY    6MJPY   12MJPY  \n",
       "1680  0.19157  0.31943  0.53657  \n",
       "1681  0.19157  0.31943  0.53657  "
      ]
     },
     "execution_count": 8,
     "metadata": {},
     "output_type": "execute_result"
    }
   ],
   "source": [
    "# multiple date error\n",
    "FX_IR[FX_IR['Date'] == pd.to_datetime('2012-09-25 00:00:00')]"
   ]
  },
  {
   "cell_type": "code",
   "execution_count": 9,
   "metadata": {},
   "outputs": [],
   "source": [
    "# len(FX_IR_FR) - (FX_IR_FR.count()) #check for nans\n",
    "FX_IR_FR.to_pickle('FX_IR_FR.csv')"
   ]
  },
  {
   "cell_type": "code",
   "execution_count": null,
   "metadata": {},
   "outputs": [],
   "source": []
  }
 ],
 "metadata": {
  "kernelspec": {
   "display_name": "Python 3",
   "language": "python",
   "name": "python3"
  },
  "language_info": {
   "codemirror_mode": {
    "name": "ipython",
    "version": 3
   },
   "file_extension": ".py",
   "mimetype": "text/x-python",
   "name": "python",
   "nbconvert_exporter": "python",
   "pygments_lexer": "ipython3",
   "version": "3.7.1"
  }
 },
 "nbformat": 4,
 "nbformat_minor": 2
}
