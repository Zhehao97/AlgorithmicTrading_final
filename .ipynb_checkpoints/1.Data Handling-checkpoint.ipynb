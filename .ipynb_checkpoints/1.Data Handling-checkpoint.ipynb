{
 "cells": [
  {
   "cell_type": "markdown",
   "metadata": {},
   "source": [
    "# Data Set Up\n"
   ]
  },
  {
   "cell_type": "code",
   "execution_count": 1,
   "metadata": {},
   "outputs": [],
   "source": [
    "import numpy as np\n",
    "import pandas as pd\n",
    "from datetime import datetime\n",
    "from dateutil.parser import parse"
   ]
  },
  {
   "cell_type": "code",
   "execution_count": null,
   "metadata": {},
   "outputs": [],
   "source": [
    "data_path = 'Final_Data/Final.csv'\n",
    "final_data = pd.read_csv(data_path)"
   ]
  },
  {
   "cell_type": "code",
   "execution_count": 22,
   "metadata": {},
   "outputs": [],
   "source": [
    "final_data['Date'] = pd.to_datetime(final_data['Date'])\n",
    "final_data = final_data.set_index('Date')\n",
    "final_data = final_data.sort_index()"
   ]
  },
  {
   "cell_type": "code",
   "execution_count": 33,
   "metadata": {},
   "outputs": [],
   "source": [
    "final_data.to_csv('Final_Data/Final_cleaned.csv')"
   ]
  },
  {
   "cell_type": "code",
   "execution_count": null,
   "metadata": {},
   "outputs": [],
   "source": [
    "# # load data\n",
    "# FX = pd.read_csv(\"Currency_Data.csv\")\n",
    "# IR = pd.read_csv(\"IR_Data.csv\")\n",
    "# FR = pd.read_csv(\"Foward_Rate_Data.csv\")\n",
    "\n",
    "# # deal with date time\n",
    "# FX['Date'] = FX['Date'].apply(lambda x:datetime.strptime(x, '%d/%m/%Y'))\n",
    "# IR['Date'] = IR['Date'].apply(lambda x:datetime.strptime(x, '%d.%m.%Y'))\n",
    "# FR['Date'] = FR['Date'].apply(lambda x:datetime.strptime(x, '%d/%m/%Y'))\n",
    "# FR['SpotDate'] = FR['SpotDate'].apply(lambda x:datetime.strptime(x, '%d/%m/%Y'))\n",
    "\n",
    "# # drop extra cols\n",
    "# FR = FR.drop(['Currency', 'SpotRate'], axis=1)\n",
    "\n",
    "# # merge threee dataframes\n",
    "# FX_IR = pd.merge(FX,IR,on='Date')\n",
    "# FX_IR_FR = pd.merge(FX_IR, FR, on='Date')\n",
    "\n",
    "# FX_IR_FR.drop_duplicates(subset = \"Date\", inplace = True)\n",
    "# FX_IR_FR\n",
    "\n",
    "# # len(FX_IR_FR) - (FX_IR_FR.count()) #check for nans\n",
    "# FX_IR_FR.to_pickle('FX_IR_FR.csv')"
   ]
  }
 ],
 "metadata": {
  "kernelspec": {
   "display_name": "Python 3",
   "language": "python",
   "name": "python3"
  },
  "language_info": {
   "codemirror_mode": {
    "name": "ipython",
    "version": 3
   },
   "file_extension": ".py",
   "mimetype": "text/x-python",
   "name": "python",
   "nbconvert_exporter": "python",
   "pygments_lexer": "ipython3",
   "version": "3.7.1"
  }
 },
 "nbformat": 4,
 "nbformat_minor": 2
}
