{
 "cells": [
  {
   "cell_type": "markdown",
   "metadata": {},
   "source": [
    "# FX Leverage Carry-Trade"
   ]
  },
  {
   "cell_type": "code",
   "execution_count": null,
   "metadata": {},
   "outputs": [],
   "source": [
    "import numpy as np\n",
    "import pandas as pd\n",
    "import matplotlib\n",
    "import matplotlib.pyplot as plt\n",
    "import carry_trade as ct\n",
    "\n",
    "matplotlib.rcParams[ 'figure.figsize' ] = ( 16, 9 )"
   ]
  },
  {
   "cell_type": "markdown",
   "metadata": {},
   "source": [
    "## 1. Load data"
   ]
  },
  {
   "cell_type": "code",
   "execution_count": null,
   "metadata": {},
   "outputs": [],
   "source": [
    "FX_IR_FR = pd.read_pickle('FX_IR_FR.csv')"
   ]
  },
  {
   "cell_type": "code",
   "execution_count": null,
   "metadata": {},
   "outputs": [],
   "source": [
    "# Sort values by day with ascending order \n",
    "FX_IR_FR = FX_IR_FR.sort_values(by='Date', ascending=True)\n",
    "\n",
    "# Set date as index\n",
    "FX_IR_FR = FX_IR_FR.set_index('Date')"
   ]
  },
  {
   "cell_type": "code",
   "execution_count": null,
   "metadata": {},
   "outputs": [],
   "source": [
    "FX_IR_FR"
   ]
  },
  {
   "cell_type": "markdown",
   "metadata": {},
   "source": [
    "## 2. Implement Strategy "
   ]
  },
  {
   "cell_type": "code",
   "execution_count": null,
   "metadata": {},
   "outputs": [],
   "source": [
    "results_1m = ct.algo_loop( FX_IR_FR )"
   ]
  },
  {
   "cell_type": "code",
   "execution_count": null,
   "metadata": {},
   "outputs": [],
   "source": [
    "results_1m.to_csv('results_1m.csv')"
   ]
  },
  {
   "cell_type": "code",
   "execution_count": null,
   "metadata": {},
   "outputs": [],
   "source": [
    "results_1m\n",
    "\n",
    "# ps: the amount of euity we invest doesn't affect the PnL(%)"
   ]
  },
  {
   "cell_type": "markdown",
   "metadata": {},
   "source": [
    "## 3. Analysis "
   ]
  },
  {
   "cell_type": "code",
   "execution_count": null,
   "metadata": {},
   "outputs": [],
   "source": [
    "fig = plt.figure(figsize=(20,5))\n",
    "ax1 = fig.add_subplot(211)\n",
    "ax1.grid(False)\n",
    "\n",
    "ax1.plot(FX_IR_FR.index, FX_IR_FR['1MUSD'], label='1MUSD')\n",
    "ax1.plot(FX_IR_FR.index, FX_IR_FR['1MJPY'], label='1MUSD')\n",
    "\n",
    "ax1.legend(loc = 'upper left')\n",
    "ax1.set_ylabel('Pct(%)')\n",
    "\n",
    "ax2 = ax1.twinx()\n",
    "ax2.grid(True)\n",
    "\n",
    "ax2.plot(results_1m.index, results_1m['Real_PnL(%)'], color='yellowgreen', label='Realized P&L')\n",
    "\n",
    "ax2.legend(loc = 'lower left')\n",
    "ax2.set_ylabel('Pct(%)')\n",
    "\n",
    "\n",
    "plt.show()\n",
    "\n"
   ]
  },
  {
   "cell_type": "code",
   "execution_count": null,
   "metadata": {},
   "outputs": [],
   "source": []
  }
 ],
 "metadata": {
  "kernelspec": {
   "display_name": "Python 3",
   "language": "python",
   "name": "python3"
  },
  "language_info": {
   "codemirror_mode": {
    "name": "ipython",
    "version": 3
   },
   "file_extension": ".py",
   "mimetype": "text/x-python",
   "name": "python",
   "nbconvert_exporter": "python",
   "pygments_lexer": "ipython3",
   "version": "3.7.1"
  }
 },
 "nbformat": 4,
 "nbformat_minor": 2
}
